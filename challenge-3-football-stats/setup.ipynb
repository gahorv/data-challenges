{
 "cells": [
  {
   "cell_type": "markdown",
   "metadata": {},
   "source": [
    "# Description"
   ]
  },
  {
   "cell_type": "markdown",
   "metadata": {},
   "source": [
    "evaluation:\n",
    "\n",
    "- time of calculating answers\n",
    "- for each missing answer time is doubled"
   ]
  },
  {
   "cell_type": "markdown",
   "metadata": {},
   "source": [
    "## get dev data"
   ]
  },
  {
   "cell_type": "code",
   "execution_count": 1,
   "metadata": {},
   "outputs": [],
   "source": [
    "import os\n",
    "import sys\n",
    "import shutil\n",
    "import pandas as pd\n",
    "import numpy as np\n",
    "%matplotlib inline"
   ]
  },
  {
   "cell_type": "code",
   "execution_count": 2,
   "metadata": {},
   "outputs": [],
   "source": [
    "sys.path.append(\"..\")\n",
    "from test_framework import comparison_test"
   ]
  },
  {
   "cell_type": "code",
   "execution_count": 3,
   "metadata": {},
   "outputs": [],
   "source": [
    "datadir = '../data_sources/soccerway_data'\n",
    "if not os.path.exists(datadir):\n",
    "    os.makedirs(datadir)\n"
   ]
  },
  {
   "cell_type": "markdown",
   "metadata": {},
   "source": [
    "put as much as you need of this to datadir\n",
    "\n",
    "https://www.dropbox.com/sh/2ebfiuzau02ns6y/AABNPprCbIiqoS2tcVFUfm14a?dl=0"
   ]
  },
  {
   "cell_type": "markdown",
   "metadata": {},
   "source": [
    "## evaluate solutions on dev data"
   ]
  },
  {
   "cell_type": "markdown",
   "metadata": {},
   "source": [
    "#### create testinputs"
   ]
  },
  {
   "cell_type": "code",
   "execution_count": 4,
   "metadata": {},
   "outputs": [],
   "source": [
    "M_INFO_FULL = pd.read_csv(datadir +  '/m_info.csv')"
   ]
  },
  {
   "cell_type": "code",
   "execution_count": 5,
   "metadata": {},
   "outputs": [],
   "source": [
    "inputdir = 'inputs'\n",
    "if os.path.exists(inputdir):\n",
    "    shutil.rmtree(inputdir)\n",
    "os.makedirs(inputdir)"
   ]
  },
  {
   "cell_type": "code",
   "execution_count": 6,
   "metadata": {},
   "outputs": [],
   "source": [
    "def generate_input(input_size):\n",
    "    pickle_file = '%s/%d-%f.pkl' % (inputdir,np.random.randint(10000000),input_size)\n",
    "    M_INFO_FULL.sample(frac=input_size).reset_index()\\\n",
    "            .drop('index',axis=1).to_pickle(pickle_file)\n",
    "    return {'data_pickle':pickle_file}"
   ]
  },
  {
   "cell_type": "code",
   "execution_count": 7,
   "metadata": {},
   "outputs": [],
   "source": [
    "envdir = 'env_dir'\n",
    "stagedir = 'staging'"
   ]
  },
  {
   "cell_type": "code",
   "execution_count": 8,
   "metadata": {},
   "outputs": [],
   "source": [
    "datalocs = {k: '%s/%s.csv' % (datadir,k) for k in ['p_info','t_info','p_values','m_odds']}\n",
    "\n",
    "data_dicts = {'ALL_DATA':{**datalocs,**{'staging_folder':stagedir}}}\n",
    "\n",
    "input_sizes = [0.1,0.5,1]\n",
    "reps = 5\n",
    "\n",
    "input_set = {}\n",
    "for data_name in data_dicts.keys():\n",
    "    input_set[data_name] = {}\n",
    "    for input_size in input_sizes:\n",
    "        input_set[data_name][input_size] = [generate_input(input_size) \n",
    "                                            for _ in range(reps)]"
   ]
  },
  {
   "cell_type": "code",
   "execution_count": 9,
   "metadata": {
    "scrolled": false
   },
   "outputs": [
    {
     "data": {
      "application/vnd.jupyter.widget-view+json": {
       "model_id": "c7c8418025bb4884890ed2bb4444487f",
       "version_major": 2,
       "version_minor": 0
      },
      "text/plain": [
       "HBox(children=(IntProgress(value=0, max=1), HTML(value='')))"
      ]
     },
     "metadata": {},
     "output_type": "display_data"
    },
    {
     "name": "stdout",
     "output_type": "stream",
     "text": [
      "base_solution\n"
     ]
    },
    {
     "data": {
      "application/vnd.jupyter.widget-view+json": {
       "model_id": "09477ca5da6b4082a744e73521dc3d3d",
       "version_major": 2,
       "version_minor": 0
      },
      "text/plain": [
       "HBox(children=(IntProgress(value=0, max=1), HTML(value='')))"
      ]
     },
     "metadata": {},
     "output_type": "display_data"
    },
    {
     "name": "stdout",
     "output_type": "stream",
     "text": [
      "Starting ETL process\n",
      "ETL process started\n",
      "ETL process done\n",
      "Starting cleanup process\n",
      "cleanup process started\n",
      "cleanup process done\n",
      "ETL killed\n",
      "\n"
     ]
    }
   ],
   "source": [
    "WINDOWS = False #if false it assumes unix\n",
    "timedata,out_dfs = comparison_test(data_dicts,input_set,\n",
    "                                   envdir,stagedir,\n",
    "                                   is_windows=WINDOWS,\n",
    "                                  verbose=True)"
   ]
  },
  {
   "cell_type": "code",
   "execution_count": 10,
   "metadata": {},
   "outputs": [],
   "source": [
    "shutil.rmtree(inputdir)"
   ]
  },
  {
   "cell_type": "code",
   "execution_count": 3,
   "metadata": {},
   "outputs": [],
   "source": [
    "sample_output = [ \n",
    "          {'most-used-formation':None},\n",
    "          {'number-of-players-with-no-games':None},\n",
    "          {'player-with-highest-number-of-games':None},\n",
    "          {'player-with-highest-number-of-games-where-his-team-didnt-concede':None}\n",
    "          {'most-games-played-in-same-position-by-player':None},\n",
    "          {'most-different-positions-by-player':None},\n",
    "          {'most-different-formations-by-player':None},\n",
    "          {'largest-odds-overcome-in-game':None},\n",
    "          {'largest-height-difference-overcome-in-game':None},\n",
    "          {'longest-time-in-days-between-two-games-for-player':None}\n",
    "          {'biggest-value-difference':None},\n",
    "          {'biggest-value-difference-upset':None}, # an upset means the unexpected team won\n",
    "          {'biggest-value-difference-with-higher-odds':None},\n",
    "          {'biggest-stadium-capacity-difference-upset':None}\n",
    "          {'capacity-of-stadium-of-team-with-most-games':None},\n",
    "          {'id-of-oldest-team-to-win-a-game':None},\n",
    "          {'biggest-age-difference-between-teams-match-id':None},\n",
    "          {'median-of-winning-team-average-age':None},\n",
    "          {'median-of-favorite-team-average-age':None}, # favorite means has lower odds of winning\n",
    "          {'median-of-underdog-team-average-age':None}, # underdog means has higher odds of winning\n",
    "          {'team-with-most-wins-as-underdog':None},\n",
    "          {'team-with-most-losses-as-favorite':None},\n",
    "          {'team-with-lowest-average-odds-of-draw':None},\n",
    "          {'position-with-highest-average-value':None},\n",
    "          {'position-with-largest-average-height':None},\n",
    "          {'position-with-largest-average-height':None}\n",
    "    ]"
   ]
  },
  {
   "cell_type": "code",
   "execution_count": 15,
   "metadata": {
    "scrolled": false
   },
   "outputs": [],
   "source": [
    "similarity = []\n",
    "\n",
    "for id1,solution1 in enumerate(list(out_dfs.keys())[:-1]):\n",
    "    _df1 = out_dfs[solution1]\n",
    "    solution2 = list(out_dfs.keys())[id1+1]\n",
    "    _df2 = out_dfs[solution2]\n",
    "    print('----------\\n%s:\\n' % solution1,_df1[_df1 != _df2].unstack().dropna())\n",
    "    print('----------\\n%s:\\n' % solution2,_df2[_df1 != _df2].unstack().dropna())\n",
    "    similarity.append({\n",
    "        'solution1':solution1,\n",
    "        'solution2':solution2,\n",
    "        'similarity':(_df1 == _df2).mean().mean()\n",
    "    })\n",
    "#pd.DataFrame(similarity).sort_values('similarity')"
   ]
  },
  {
   "cell_type": "code",
   "execution_count": 13,
   "metadata": {},
   "outputs": [],
   "source": [
    "timedf = pd.DataFrame(timedata).pivot_table(columns='solution',values='calc_time',\n",
    "                                   index=['data_id','input_id'],aggfunc='median').reset_index()"
   ]
  },
  {
   "cell_type": "code",
   "execution_count": 14,
   "metadata": {
    "scrolled": false
   },
   "outputs": [
    {
     "data": {
      "image/png": "[encoded data removed]",
      "text/plain": [
       "<Figure size 720x720 with 1 Axes>"
      ]
     },
     "metadata": {
      "needs_background": "light"
     },
     "output_type": "display_data"
    },
    {
     "data": {
      "image/png": "[encoded data removed]",
      "text/plain": [
       "<Figure size 720x720 with 1 Axes>"
      ]
     },
     "metadata": {
      "needs_background": "light"
     },
     "output_type": "display_data"
    },
    {
     "data": {
      "image/png": "[encoded data removed]",
      "text/plain": [
       "<Figure size 720x720 with 1 Axes>"
      ]
     },
     "metadata": {
      "needs_background": "light"
     },
     "output_type": "display_data"
    },
    {
     "data": {
      "image/png": "[encoded data removed]",
      "text/plain": [
       "<Figure size 720x720 with 1 Axes>"
      ]
     },
     "metadata": {
      "needs_background": "light"
     },
     "output_type": "display_data"
    }
   ],
   "source": [
    "allgroups = ['data_id','input_id']\n",
    "for basegroup in allgroups:\n",
    "    remaingroup = [c for c in allgroups if c != basegroup]\n",
    "    for _gname,_gdf in timedf.groupby(basegroup):\n",
    "        _gdf.drop(basegroup,axis=1).groupby(remaingroup).median()\\\n",
    "        .plot(kind='bar',figsize=(10,10),title='%s - %s' % (str(basegroup),str(_gname)))"
   ]
  },
  {
   "cell_type": "code",
   "execution_count": null,
   "metadata": {},
   "outputs": [],
   "source": []
  }
 ],
 "metadata": {
  "kernelspec": {
   "display_name": "Python 3",
   "language": "python",
   "name": "python3"
  },
  "language_info": {
   "codemirror_mode": {
    "name": "ipython",
    "version": 3
   },
   "file_extension": ".py",
   "mimetype": "text/x-python",
   "name": "python",
   "nbconvert_exporter": "python",
   "pygments_lexer": "ipython3",
   "version": "3.6.4"
  }
 },
 "nbformat": 4,
 "nbformat_minor": 2
}
