{
 "cells": [
  {
   "cell_type": "markdown",
   "metadata": {},
   "source": [
    "# Description"
   ]
  },
  {
   "cell_type": "markdown",
   "metadata": {},
   "source": [
    "evaluation based on:\n",
    "- scaling with size of input\n",
    "- scaling with data size\n",
    "- scaling with number of runs\n",
    "\n",
    "- no two hotels in the same place\n",
    "- the fact that the coordinates reach around earth does not matter"
   ]
  },
  {
   "cell_type": "markdown",
   "metadata": {},
   "source": [
    "## get dev data"
   ]
  },
  {
   "cell_type": "code",
   "execution_count": null,
   "metadata": {},
   "outputs": [],
   "source": [
    "import os\n",
    "import sys\n",
    "import shutil\n",
    "import pandas as pd\n",
    "import numpy as np\n",
    "%matplotlib inline"
   ]
  },
  {
   "cell_type": "code",
   "execution_count": null,
   "metadata": {},
   "outputs": [],
   "source": [
    "sys.path.append(\"..\")\n",
    "from test_framework import comparison_test"
   ]
  },
  {
   "cell_type": "code",
   "execution_count": null,
   "metadata": {},
   "outputs": [],
   "source": [
    "datadir = '../data_sources/hotels_data'\n",
    "if not os.path.exists(datadir):\n",
    "    os.makedirs(datadir)\n"
   ]
  },
  {
   "cell_type": "markdown",
   "metadata": {},
   "source": [
    "put as much as you need of this to datadir\n",
    "\n",
    "https://www.dropbox.com/sh/2ebfiuzau02ns6y/AABNPprCbIiqoS2tcVFUfm14a?dl=0"
   ]
  },
  {
   "cell_type": "markdown",
   "metadata": {},
   "source": [
    "## evaluate solutions on dev data"
   ]
  },
  {
   "cell_type": "markdown",
   "metadata": {},
   "source": [
    "#### create testinputs"
   ]
  },
  {
   "cell_type": "code",
   "execution_count": null,
   "metadata": {},
   "outputs": [],
   "source": [
    "AGGED = pd.read_csv(datadir + '/agg.csv',index_col='index')"
   ]
  },
  {
   "cell_type": "code",
   "execution_count": null,
   "metadata": {},
   "outputs": [],
   "source": [
    "def generate_input(input_size):\n",
    "    input_list = []\n",
    "    for _ in range(input_size):\n",
    "        input_dic = {c:np.random.uniform(AGGED.loc['min',c],AGGED.loc['max',c]) for c in AGGED.columns}\n",
    "        input_dic['stars'] = np.linspace(0,5,11)[np.random.randint(11)]\n",
    "        prices = np.sort( np.random.exponential(70,size=2))\n",
    "        input_dic['min_price'] = prices[0]\n",
    "        input_dic['max_price'] = prices[1]\n",
    "        input_list.append(input_dic.copy())\n",
    "    return input_list"
   ]
  },
  {
   "cell_type": "code",
   "execution_count": null,
   "metadata": {},
   "outputs": [],
   "source": [
    "envdir = 'env_dir'\n",
    "stagedir = 'staging'"
   ]
  },
  {
   "cell_type": "code",
   "execution_count": null,
   "metadata": {},
   "outputs": [],
   "source": [
    "MINI_DATA = [3e3,6e3,12e3]\n",
    "SMALL_DATA = [3e4,6e4,30e4,60e4]\n",
    "BIG_DATA = [3e6,6e6,12e6,24e6,36e6,48e6,60e6]\n",
    "\n",
    "use_datasets = MINI_DATA + SMALL_DATA + BIG_DATA[:2]\n",
    "data_dicts = {int(data_size):{'datafile':datadir + '/hotels-%d.csv' % data_size,\n",
    "'staging_folder':stagedir} for data_size in use_datasets}\n",
    "\n",
    "\n",
    "input_sizes = [1,10,100,200,500,1000]#,200,1000]\n",
    "reps = 5\n",
    "\n",
    "input_set = {}\n",
    "for data_name in data_dicts.keys():\n",
    "    input_set[data_name] = {}\n",
    "    for input_size in input_sizes:\n",
    "        input_set[data_name][input_size] = [generate_input(input_size) \n",
    "                                            for _ in range(reps)]"
   ]
  },
  {
   "cell_type": "code",
   "execution_count": null,
   "metadata": {
    "scrolled": false
   },
   "outputs": [],
   "source": [
    "WINDOWS = False #if false it assumes unix\n",
    "timedata,out_dfs = comparison_test(data_dicts,input_set,\n",
    "                                   envdir,stagedir,\n",
    "                                   is_windows=WINDOWS,\n",
    "                                  verbose=True)"
   ]
  },
  {
   "cell_type": "code",
   "execution_count": null,
   "metadata": {
    "scrolled": false
   },
   "outputs": [],
   "source": [
    "similarity = []\n",
    "\n",
    "for id1,solution1 in enumerate(list(out_dfs.keys())[:-1]):\n",
    "    _df1 = out_dfs[solution1]\n",
    "    solution2 = list(out_dfs.keys())[id1+1]\n",
    "    _df2 = out_dfs[solution2]\n",
    "    print('----------\\n%s:\\n' % solution1,_df1[_df1 != _df2].unstack().dropna())\n",
    "    print('----------\\n%s:\\n' % solution2,_df2[_df1 != _df2].unstack().dropna())\n",
    "    similarity.append({\n",
    "        'solution1':solution1,\n",
    "        'solution2':solution2,\n",
    "        'similarity':(_df1.fillna('NA') == _df2.fillna('NA')).mean().mean()\n",
    "    })\n",
    "pd.DataFrame(similarity).sort_values('similarity')"
   ]
  },
  {
   "cell_type": "code",
   "execution_count": null,
   "metadata": {},
   "outputs": [],
   "source": [
    "timedf = pd.DataFrame(timedata).pivot_table(columns='solution',values='calc_time',\n",
    "                                   index=['data_id','input_id'],aggfunc='median').reset_index()"
   ]
  },
  {
   "cell_type": "code",
   "execution_count": null,
   "metadata": {
    "scrolled": false
   },
   "outputs": [],
   "source": [
    "allgroups = ['data_id','input_id']\n",
    "for basegroup in allgroups:\n",
    "    remaingroup = [c for c in allgroups if c != basegroup]\n",
    "    for _gname,_gdf in timedf.groupby(basegroup):\n",
    "        _gdf.drop(basegroup,axis=1).groupby(remaingroup).median()\\\n",
    "        .plot(kind='bar',figsize=(10,10),title='%s - %s' % (str(basegroup),str(_gname)))"
   ]
  },
  {
   "cell_type": "code",
   "execution_count": null,
   "metadata": {},
   "outputs": [],
   "source": [
    "timedf.sort_values(['data_id','input_id'],ascending=False)"
   ]
  },
  {
   "cell_type": "code",
   "execution_count": null,
   "metadata": {
    "scrolled": false
   },
   "outputs": [],
   "source": [
    "allgroups = ['data_id','input_id']\n",
    "for basegroup in allgroups:\n",
    "    remaingroup = [c for c in allgroups if c != basegroup]\n",
    "    for _gname,_gdf in timedf.groupby(basegroup):\n",
    "        _gdf.drop(basegroup,axis=1).groupby(remaingroup).median()\\\n",
    "        .plot(kind='bar',figsize=(10,10),title='%s - %s' % (str(basegroup),str(_gname)))"
   ]
  },
  {
   "cell_type": "code",
   "execution_count": null,
   "metadata": {},
   "outputs": [],
   "source": [
    "np.linspace(0,5,11)"
   ]
  }
 ],
 "metadata": {
  "kernelspec": {
   "display_name": "Python 3",
   "language": "python",
   "name": "python3"
  },
  "language_info": {
   "codemirror_mode": {
    "name": "ipython",
    "version": 3
   },
   "file_extension": ".py",
   "mimetype": "text/x-python",
   "name": "python",
   "nbconvert_exporter": "python",
   "pygments_lexer": "ipython3",
   "version": "3.6.4"
  }
 },
 "nbformat": 4,
 "nbformat_minor": 2
}
