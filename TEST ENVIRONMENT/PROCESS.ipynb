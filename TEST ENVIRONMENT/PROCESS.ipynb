{
 "cells": [
  {
   "cell_type": "code",
   "execution_count": 1,
   "metadata": {},
   "outputs": [],
   "source": [
    "import pandas as pd\n",
    "import numpy as np\n",
    "import time"
   ]
  },
  {
   "cell_type": "code",
   "execution_count": 2,
   "metadata": {},
   "outputs": [],
   "source": [
    "AGGED = pd.read_csv('agg.csv', index_col = 'index')\n",
    "lowlat, highlat, lowlon, highlon = AGGED[\"lat\"][\"min\"], AGGED[\"lat\"][\"max\"], AGGED[\"lon\"][\"min\"], AGGED[\"lon\"][\"max\"]"
   ]
  },
  {
   "cell_type": "markdown",
   "metadata": {},
   "source": [
    "### This part is copied to ETL.py"
   ]
  },
  {
   "cell_type": "code",
   "execution_count": 3,
   "metadata": {},
   "outputs": [],
   "source": [
    "def ETL(data):\n",
    "    \n",
    "    filtered = data.drop_duplicates().reset_index(drop = True)[['lon','lat','name']]\n",
    "    filtered.to_csv(\"filtered.csv\")"
   ]
  },
  {
   "cell_type": "markdown",
   "metadata": {},
   "source": [
    "### This part is copied to process.py"
   ]
  },
  {
   "cell_type": "code",
   "execution_count": 64,
   "metadata": {},
   "outputs": [],
   "source": [
    "def process(inp):\n",
    "    \n",
    "    start_time = time.time()\n",
    "    data = pd.read_csv(\"filtered.csv\")\n",
    "    \"\"\" lower_bound_lat = data[\"lat\"].min()\n",
    "    upper_bound_lat = data[\"lat\"].max()\n",
    "    lower_bound_lon = data[\"lon\"].min()\n",
    "    upper_bound_lon = data[\"lon\"].max()\"\"\"   \n",
    "    out = []\n",
    "    num = int(600 / (len(data) ** 0.5))\n",
    "\n",
    "    for place in inp:\n",
    "        \n",
    "        r = 0\n",
    "        by_lat = pd.DataFrame(np.zeros(shape = (0, 4))).rename(columns = {\n",
    "            0: \"lon\", 1: \"lat\", 2: \"name\", 3: \"distance\"})\n",
    "        by_lon = pd.DataFrame(np.zeros(shape = (0, 4))).rename(columns = {\n",
    "            0: \"lon\", 1: \"lat\", 2: \"name\", 3: \"distance\"})\n",
    "\n",
    "        while True:\n",
    "            \n",
    "            r += num\n",
    "            \n",
    "            if not by_lat.empty:\n",
    "                lower_lat = by_lat.loc[0][\"lat\"]\n",
    "                upper_lat = by_lat.loc[len(by_lat) - 1][\"lat\"]\n",
    "                new_lat = data.loc[(abs(data[\"lat\"] - place[\"lat\"]) <= r) & ((data[\"lat\"] < lower_lat) | \\\n",
    "                                        (data[\"lat\"] > upper_lat))]\n",
    "                new_lat[\"distance\"] = (place['lon'] - new_lat['lon']) ** 2 + (place['lat'] - new_lat['lat']) ** 2\n",
    "                by_lat = pd.concat([by_lat, new_lat], ignore_index = True).sort_values(\"lat\").reset_index(drop = True)\n",
    "                \n",
    "            else:\n",
    "                by_lat = pd.concat([by_lat, data.loc[abs(data[\"lat\"] - place[\"lat\"]) <= r].sort_values(\"lat\").reset_index(\n",
    "                    drop = True)])\n",
    "                by_lat[\"distance\"] = (place['lon'] - by_lat['lon']) ** 2 + (place['lat'] - by_lat['lat']) ** 2\n",
    "                \n",
    "            if not by_lon.empty:\n",
    "                lower_lon = by_lon.loc[0][\"lon\"]\n",
    "                upper_lon = by_lon.loc[len(by_lon) - 1][\"lon\"]\n",
    "                new_lon = data.loc[(abs(data[\"lon\"] - place[\"lon\"]) <= r) & ((data[\"lon\"] < lower_lon) | \\\n",
    "                                        (data[\"lon\"] > upper_lon))]\n",
    "                new_lon[\"distance\"] = (place['lon'] - new_lon['lon']) ** 2 + (place['lat'] - new_lon['lat']) ** 2\n",
    "                by_lon = pd.concat([by_lon, new_lon], ignore_index = True).sort_values(\"lon\").reset_index(drop = True)\n",
    "                \n",
    "            else:\n",
    "                by_lon = pd.concat([by_lon, data.loc[abs(data[\"lon\"] - place[\"lon\"]) <= r].sort_values(\"lon\").reset_index(\n",
    "                    drop = True)])\n",
    "                by_lon[\"distance\"] = (place['lon'] - by_lon['lon']) ** 2 + (place['lat'] - by_lon['lat']) ** 2        \n",
    "                \n",
    "            if by_lon.empty or by_lat.empty:\n",
    "                continue\n",
    "\n",
    "            lat_min = by_lat.iloc[[by_lat[\"distance\"].idxmin()]].reset_index(drop = True)\n",
    "            lon_min = by_lon.iloc[[by_lon[\"distance\"].idxmin()]].reset_index(drop = True)\n",
    "            \n",
    "            if lat_min.equals(lon_min):\n",
    "                closest_place = {'lon': lat_min.loc[0, 'lon'], 'lat': lat_min.loc[0, 'lat'],\n",
    "                         'name': lat_min.loc[0, \"name\"]}\n",
    "                out.append(closest_place.copy())\n",
    "                break\n",
    "                \n",
    "            \"\"\"if ((place[\"lat\"] - r < lower_bound_lat) and (place[\"lat\"] + r > upper_bound_lat)) and \\\n",
    "            ((place[\"lon\"] - r < lower_bound_lon) and (place[\"lon\"] + r < upper_bound_lon)):\n",
    "                print(\"r:\", r)\n",
    "                break\"\"\"\n",
    "               \n",
    "    calc_time = time.time() - start_time\n",
    "    \n",
    "    return out, calc_time"
   ]
  },
  {
   "cell_type": "markdown",
   "metadata": {},
   "source": [
    "### Now it's time to test your solution"
   ]
  },
  {
   "cell_type": "code",
   "execution_count": 5,
   "metadata": {},
   "outputs": [],
   "source": [
    "def generate_input(input_size):\n",
    "    \n",
    "    return [{c: np.random.uniform(AGGED.loc['min', c], AGGED.loc['max', c]) for c in AGGED.columns}\n",
    "         for _ in range(input_size)]"
   ]
  },
  {
   "cell_type": "code",
   "execution_count": 65,
   "metadata": {},
   "outputs": [],
   "source": [
    "MINI_DATA = [12e3]#[3e3,6e3,\n",
    "SMALL_DATA = [3e4,6e4,30e4,60e4]\n",
    "BIG_DATA = [3e6,6e6,12e6,24e6,36e6,48e6,60e6]\n",
    "\n",
    "use_datasets = MINI_DATA\n",
    "data_dicts = {int(data_size): pd.read_csv('../data_sources/hotels_data/hotels-%d.csv' % data_size)\n",
    "              for data_size in use_datasets}"
   ]
  },
  {
   "cell_type": "code",
   "execution_count": 66,
   "metadata": {},
   "outputs": [],
   "source": [
    "input_sizes = [1, 5] #, 10, 20, 200, 1000]\n",
    "input_set = {}\n",
    "\n",
    "for data_name in data_dicts.keys():\n",
    "    input_set[data_name] = {}\n",
    "    for input_size in input_sizes:\n",
    "        input_set[data_name][input_size] = generate_input(input_size)"
   ]
  },
  {
   "cell_type": "code",
   "execution_count": 67,
   "metadata": {},
   "outputs": [
    {
     "name": "stdout",
     "output_type": "stream",
     "text": [
      "---------------------------\n",
      "Data size:  12000\n",
      "---------------------------\n",
      "   Input size:  1\n",
      "\n",
      "   Closest hotel(s):  [{'lon': -106.41911437451729, 'lat': 31.78826497758857, 'name': 'Hilton Garden Inn El Paso / University - rbnb 48'}]\n",
      "\n",
      "   Calculation time: 0.170000 seconds\n",
      "---------------------------\n",
      "   Input size:  5\n"
     ]
    },
    {
     "name": "stderr",
     "output_type": "stream",
     "text": [
      "C:\\Hanga\\programok\\PYTHON\\lib\\site-packages\\ipykernel_launcher.py:34: FutureWarning: Sorting because non-concatenation axis is not aligned. A future version\n",
      "of pandas will change to not sort by default.\n",
      "\n",
      "To accept the future behavior, pass 'sort=False'.\n",
      "\n",
      "To retain the current behavior and silence the warning, pass 'sort=True'.\n",
      "\n",
      "C:\\Hanga\\programok\\PYTHON\\lib\\site-packages\\ipykernel_launcher.py:47: FutureWarning: Sorting because non-concatenation axis is not aligned. A future version\n",
      "of pandas will change to not sort by default.\n",
      "\n",
      "To accept the future behavior, pass 'sort=False'.\n",
      "\n",
      "To retain the current behavior and silence the warning, pass 'sort=True'.\n",
      "\n",
      "C:\\Hanga\\programok\\PYTHON\\lib\\site-packages\\ipykernel_launcher.py:29: SettingWithCopyWarning: \n",
      "A value is trying to be set on a copy of a slice from a DataFrame.\n",
      "Try using .loc[row_indexer,col_indexer] = value instead\n",
      "\n",
      "See the caveats in the documentation: http://pandas.pydata.org/pandas-docs/stable/indexing.html#indexing-view-versus-copy\n",
      "C:\\Hanga\\programok\\PYTHON\\lib\\site-packages\\ipykernel_launcher.py:30: FutureWarning: Sorting because non-concatenation axis is not aligned. A future version\n",
      "of pandas will change to not sort by default.\n",
      "\n",
      "To accept the future behavior, pass 'sort=False'.\n",
      "\n",
      "To retain the current behavior and silence the warning, pass 'sort=True'.\n",
      "\n",
      "C:\\Hanga\\programok\\PYTHON\\lib\\site-packages\\ipykernel_launcher.py:42: SettingWithCopyWarning: \n",
      "A value is trying to be set on a copy of a slice from a DataFrame.\n",
      "Try using .loc[row_indexer,col_indexer] = value instead\n",
      "\n",
      "See the caveats in the documentation: http://pandas.pydata.org/pandas-docs/stable/indexing.html#indexing-view-versus-copy\n",
      "C:\\Hanga\\programok\\PYTHON\\lib\\site-packages\\ipykernel_launcher.py:43: FutureWarning: Sorting because non-concatenation axis is not aligned. A future version\n",
      "of pandas will change to not sort by default.\n",
      "\n",
      "To accept the future behavior, pass 'sort=False'.\n",
      "\n",
      "To retain the current behavior and silence the warning, pass 'sort=True'.\n",
      "\n"
     ]
    },
    {
     "name": "stdout",
     "output_type": "stream",
     "text": [
      "\n",
      "   Closest hotel(s):  [{'lon': -73.01993968666878, 'lat': -41.432208422672616, 'name': 'Antupiren - rbnb 78'}, {'lon': -72.51042493031153, 'lat': 46.36927245485092, 'name': 'Motel Le Deauville - rbnb 40'}, {'lon': -21.94900687114935, 'lat': 64.11926026363804, 'name': 'Apartment K - rbnb 57'}, {'lon': 107.02450597527302, 'lat': 47.89123000269159, 'name': 'Best Western Premier Tuushin Hotel - rbnb 29'}, {'lon': -41.88735942999581, 'lat': -22.746907606123965, 'name': 'Pousada Barlavento - rbnb 37'}]\n",
      "\n",
      "   Calculation time: 1.560000 seconds\n"
     ]
    }
   ],
   "source": [
    "solution_dict = {}\n",
    "\n",
    "for data in input_set.keys():\n",
    "\n",
    "    print(\"---------------------------\\nData size: \", data)\n",
    "\n",
    "    ETL(data_dicts[data])    \n",
    "    solution_dict[data] = {}\n",
    "\n",
    "    for inp in input_set[data].keys():\n",
    "\n",
    "        print(\"---------------------------\\n   Input size: \", inp)\n",
    "\n",
    "        solution, calc_time = process(input_set[data][inp])\n",
    "        solution_dict[data][inp] = {\"solution\": solution, \"calc_time\": calc_time}\n",
    "\n",
    "        print(\"\\n   Closest hotel(s): \", solution)\n",
    "        print(\"\\n   Calculation time: %f seconds\" %round(calc_time, 2))"
   ]
  }
 ],
 "metadata": {
  "kernelspec": {
   "display_name": "Python 3",
   "language": "python",
   "name": "python3"
  },
  "language_info": {
   "codemirror_mode": {
    "name": "ipython",
    "version": 3
   },
   "file_extension": ".py",
   "mimetype": "text/x-python",
   "name": "python",
   "nbconvert_exporter": "python",
   "pygments_lexer": "ipython3",
   "version": "3.7.1"
  }
 },
 "nbformat": 4,
 "nbformat_minor": 2
}
